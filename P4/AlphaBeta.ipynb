{
 "cells": [
  {
   "cell_type": "code",
   "execution_count": 1,
   "id": "09716e6c",
   "metadata": {},
   "outputs": [
    {
     "name": "stdout",
     "output_type": "stream",
     "text": [
      "Depth: 0, NodeIndex: 0, Maximizing: True, Path: [], Alpha: -inf, Beta: inf\n",
      "Depth: 1, NodeIndex: 0, Maximizing: False, Path: [0], Alpha: -inf, Beta: inf\n",
      "Depth: 2, NodeIndex: 0, Maximizing: True, Path: [0, 0], Alpha: -inf, Beta: inf\n",
      "Depth: 3, NodeIndex: 0, Maximizing: False, Path: [0, 0, 0], Alpha: -inf, Beta: inf\n",
      "Reached leaf node with value: 3 at path: [0, 0, 0, 0]\n",
      "Depth: 3, NodeIndex: 1, Maximizing: False, Path: [0, 0, 0], Alpha: 3, Beta: inf\n",
      "Reached leaf node with value: 5 at path: [0, 0, 0, 1]\n",
      "Maximizing player at depth 2 with best value 5 and path [0, 0, 0, 1]\n",
      "Depth: 2, NodeIndex: 1, Maximizing: True, Path: [0, 0], Alpha: -inf, Beta: 5\n",
      "Depth: 3, NodeIndex: 2, Maximizing: False, Path: [0, 0, 1], Alpha: -inf, Beta: 5\n",
      "Reached leaf node with value: 2 at path: [0, 0, 1, 2]\n",
      "Depth: 3, NodeIndex: 3, Maximizing: False, Path: [0, 0, 1], Alpha: 2, Beta: 5\n",
      "Reached leaf node with value: 9 at path: [0, 0, 1, 3]\n",
      "Maximizing player at depth 2 with best value 9 and path [0, 0, 1, 3]\n",
      "Minimizing player at depth 1 with best value 5 and path [0, 0, 0, 1]\n",
      "Depth: 1, NodeIndex: 1, Maximizing: False, Path: [0], Alpha: 5, Beta: inf\n",
      "Depth: 2, NodeIndex: 2, Maximizing: True, Path: [0, 1], Alpha: 5, Beta: inf\n",
      "Depth: 3, NodeIndex: 4, Maximizing: False, Path: [0, 1, 2], Alpha: 5, Beta: inf\n",
      "Reached leaf node with value: 12 at path: [0, 1, 2, 4]\n",
      "Depth: 3, NodeIndex: 5, Maximizing: False, Path: [0, 1, 2], Alpha: 12, Beta: inf\n",
      "Reached leaf node with value: 5 at path: [0, 1, 2, 5]\n",
      "Maximizing player at depth 2 with best value 12 and path [0, 1, 2, 4]\n",
      "Depth: 2, NodeIndex: 3, Maximizing: True, Path: [0, 1], Alpha: 5, Beta: 12\n",
      "Depth: 3, NodeIndex: 6, Maximizing: False, Path: [0, 1, 3], Alpha: 5, Beta: 12\n",
      "Reached leaf node with value: 23 at path: [0, 1, 3, 6]\n",
      "Maximizing player at depth 2 with best value 23 and path [0, 1, 3, 6]\n",
      "Minimizing player at depth 1 with best value 12 and path [0, 1, 2, 4]\n",
      "Maximizing player at depth 0 with best value 12 and path [0, 1, 2, 4]\n",
      "The optimal value is: 12\n",
      "The path taken is: [0, 1, 2, 4]\n"
     ]
    }
   ],
   "source": [
    "def alphabeta(depth, nodeIndex, maximizingPlayer, values, alpha, beta, path):\n",
    "    print(f\"Depth: {depth}, NodeIndex: {nodeIndex}, Maximizing: {maximizingPlayer}, Path: {path}, Alpha: {alpha}, Beta: {beta}\")\n",
    "    \n",
    "    if depth == 3:\n",
    "        print(f\"Reached leaf node with value: {values[nodeIndex]} at path: {path + [nodeIndex]}\")\n",
    "        return values[nodeIndex], path + [nodeIndex]\n",
    "\n",
    "    if maximizingPlayer:\n",
    "        best = float('-inf')\n",
    "        best_path = []\n",
    "        for i in range(2):\n",
    "            val, new_path = alphabeta(depth + 1, nodeIndex * 2 + i, False, values, alpha, beta, path + [nodeIndex])\n",
    "            if val > best:\n",
    "                best = val\n",
    "                best_path = new_path\n",
    "            alpha = max(alpha, best)\n",
    "            if beta <= alpha:\n",
    "                break\n",
    "        print(f\"Maximizing player at depth {depth} with best value {best} and path {best_path}\")\n",
    "        return best, best_path\n",
    "    else:\n",
    "        best = float('inf')\n",
    "        best_path = []\n",
    "        for i in range(2):\n",
    "            val, new_path = alphabeta(depth + 1, nodeIndex * 2 + i, True, values, alpha, beta, path + [nodeIndex])\n",
    "            if val < best:\n",
    "                best = val\n",
    "                best_path = new_path\n",
    "            beta = min(beta, best)\n",
    "            if beta <= alpha:\n",
    "                break\n",
    "        print(f\"Minimizing player at depth {depth} with best value {best} and path {best_path}\")\n",
    "        return best, best_path\n",
    "\n",
    "# Example tree with depth 3 and 8 terminal nodes\n",
    "values = [3, 5, 2, 9, 12, 5, 23, 23]\n",
    "\n",
    "# Start the Alpha-Beta Pruning algorithm\n",
    "optimal_value, optimal_path = alphabeta(0, 0, True, values, float('-inf'), float('inf'), [])\n",
    "print(\"The optimal value is:\", optimal_value)\n",
    "print(\"The path taken is:\", optimal_path)\n",
    "     "
   ]
  },
  {
   "cell_type": "code",
   "execution_count": null,
   "id": "8c6a914d",
   "metadata": {},
   "outputs": [],
   "source": []
  }
 ],
 "metadata": {
  "kernelspec": {
   "display_name": "Python 3 (ipykernel)",
   "language": "python",
   "name": "python3"
  },
  "language_info": {
   "codemirror_mode": {
    "name": "ipython",
    "version": 3
   },
   "file_extension": ".py",
   "mimetype": "text/x-python",
   "name": "python",
   "nbconvert_exporter": "python",
   "pygments_lexer": "ipython3",
   "version": "3.9.12"
  }
 },
 "nbformat": 4,
 "nbformat_minor": 5
}
